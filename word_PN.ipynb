{
 "cells": [
  {
   "cell_type": "markdown",
   "id": "af503fe3-cf74-4634-87fe-fb1deff96f9b",
   "metadata": {
    "pycharm": {
     "name": "#%% md\n"
    }
   },
   "source": [
    "## 单词-技术领域"
   ]
  },
  {
   "cell_type": "code",
   "execution_count": 1,
   "id": "919229c7-449e-4123-ba6c-f0982a7fa2f7",
   "metadata": {
    "pycharm": {
     "name": "#%%\n"
    }
   },
   "outputs": [],
   "source": [
    "import pandas as pd"
   ]
  },
  {
   "cell_type": "markdown",
   "id": "435ee741-9f47-46f0-8cb7-bfb31628868b",
   "metadata": {
    "pycharm": {
     "name": "#%% md\n"
    }
   },
   "source": [
    "### 读取归一化所有单词数据"
   ]
  },
  {
   "cell_type": "code",
   "execution_count": 2,
   "id": "ba40e30a-f538-4335-8dab-cb8ed4b115dc",
   "metadata": {
    "pycharm": {
     "name": "#%%\n"
    }
   },
   "outputs": [
    {
     "name": "stdout",
     "output_type": "stream",
     "text": [
      "CPU times: user 51.3 s, sys: 7.16 s, total: 58.5 s\n",
      "Wall time: 1min 2s\n"
     ]
    },
    {
     "data": {
      "text/plain": "  Unnamed: 0    1    2    3    4    5    6    7    8    9  ...  15107  15108  \\\n0     absorb  0.0  0.0  0.0  0.0  0.0  0.0  0.0  0.0  0.0  ...    0.0    0.0   \n1   advantag  0.0  0.0  0.0  0.0  0.0  0.0  0.0  0.0  0.0  ...    0.0    0.0   \n2     biolog  0.0  0.0  0.0  0.0  0.0  0.0  0.0  0.0  0.0  ...    0.0    0.0   \n3       bodi  0.0  0.0  0.0  0.0  0.0  0.0  0.0  0.0  0.0  ...    0.0    0.0   \n4     capabl  0.0  0.0  0.0  0.0  0.0  0.0  0.0  0.0  0.0  ...    0.0    0.0   \n\n   15109  15110  15111  15112  15113  15114  15115  15116  \n0    0.0    0.0    0.0    0.0    0.0    0.0    0.0    0.0  \n1    0.0    0.0    0.0    0.0    0.0    0.0    0.0    0.0  \n2    0.0    0.0    0.0    0.0    0.0    0.0    0.0    0.0  \n3    0.0    0.0    0.0    0.0    0.0    0.0    0.0    0.0  \n4    0.0    0.0    0.0    0.0    0.0    0.0    0.0    0.0  \n\n[5 rows x 15117 columns]",
      "text/html": "<div>\n<style scoped>\n    .dataframe tbody tr th:only-of-type {\n        vertical-align: middle;\n    }\n\n    .dataframe tbody tr th {\n        vertical-align: top;\n    }\n\n    .dataframe thead th {\n        text-align: right;\n    }\n</style>\n<table border=\"1\" class=\"dataframe\">\n  <thead>\n    <tr style=\"text-align: right;\">\n      <th></th>\n      <th>Unnamed: 0</th>\n      <th>1</th>\n      <th>2</th>\n      <th>3</th>\n      <th>4</th>\n      <th>5</th>\n      <th>6</th>\n      <th>7</th>\n      <th>8</th>\n      <th>9</th>\n      <th>...</th>\n      <th>15107</th>\n      <th>15108</th>\n      <th>15109</th>\n      <th>15110</th>\n      <th>15111</th>\n      <th>15112</th>\n      <th>15113</th>\n      <th>15114</th>\n      <th>15115</th>\n      <th>15116</th>\n    </tr>\n  </thead>\n  <tbody>\n    <tr>\n      <th>0</th>\n      <td>absorb</td>\n      <td>0.0</td>\n      <td>0.0</td>\n      <td>0.0</td>\n      <td>0.0</td>\n      <td>0.0</td>\n      <td>0.0</td>\n      <td>0.0</td>\n      <td>0.0</td>\n      <td>0.0</td>\n      <td>...</td>\n      <td>0.0</td>\n      <td>0.0</td>\n      <td>0.0</td>\n      <td>0.0</td>\n      <td>0.0</td>\n      <td>0.0</td>\n      <td>0.0</td>\n      <td>0.0</td>\n      <td>0.0</td>\n      <td>0.0</td>\n    </tr>\n    <tr>\n      <th>1</th>\n      <td>advantag</td>\n      <td>0.0</td>\n      <td>0.0</td>\n      <td>0.0</td>\n      <td>0.0</td>\n      <td>0.0</td>\n      <td>0.0</td>\n      <td>0.0</td>\n      <td>0.0</td>\n      <td>0.0</td>\n      <td>...</td>\n      <td>0.0</td>\n      <td>0.0</td>\n      <td>0.0</td>\n      <td>0.0</td>\n      <td>0.0</td>\n      <td>0.0</td>\n      <td>0.0</td>\n      <td>0.0</td>\n      <td>0.0</td>\n      <td>0.0</td>\n    </tr>\n    <tr>\n      <th>2</th>\n      <td>biolog</td>\n      <td>0.0</td>\n      <td>0.0</td>\n      <td>0.0</td>\n      <td>0.0</td>\n      <td>0.0</td>\n      <td>0.0</td>\n      <td>0.0</td>\n      <td>0.0</td>\n      <td>0.0</td>\n      <td>...</td>\n      <td>0.0</td>\n      <td>0.0</td>\n      <td>0.0</td>\n      <td>0.0</td>\n      <td>0.0</td>\n      <td>0.0</td>\n      <td>0.0</td>\n      <td>0.0</td>\n      <td>0.0</td>\n      <td>0.0</td>\n    </tr>\n    <tr>\n      <th>3</th>\n      <td>bodi</td>\n      <td>0.0</td>\n      <td>0.0</td>\n      <td>0.0</td>\n      <td>0.0</td>\n      <td>0.0</td>\n      <td>0.0</td>\n      <td>0.0</td>\n      <td>0.0</td>\n      <td>0.0</td>\n      <td>...</td>\n      <td>0.0</td>\n      <td>0.0</td>\n      <td>0.0</td>\n      <td>0.0</td>\n      <td>0.0</td>\n      <td>0.0</td>\n      <td>0.0</td>\n      <td>0.0</td>\n      <td>0.0</td>\n      <td>0.0</td>\n    </tr>\n    <tr>\n      <th>4</th>\n      <td>capabl</td>\n      <td>0.0</td>\n      <td>0.0</td>\n      <td>0.0</td>\n      <td>0.0</td>\n      <td>0.0</td>\n      <td>0.0</td>\n      <td>0.0</td>\n      <td>0.0</td>\n      <td>0.0</td>\n      <td>...</td>\n      <td>0.0</td>\n      <td>0.0</td>\n      <td>0.0</td>\n      <td>0.0</td>\n      <td>0.0</td>\n      <td>0.0</td>\n      <td>0.0</td>\n      <td>0.0</td>\n      <td>0.0</td>\n      <td>0.0</td>\n    </tr>\n  </tbody>\n</table>\n<p>5 rows × 15117 columns</p>\n</div>"
     },
     "execution_count": 2,
     "metadata": {},
     "output_type": "execute_result"
    }
   ],
   "source": [
    "%%time\n",
    "all = pd.read_csv('./dataset/all.csv')\n",
    "all.head(5)"
   ]
  },
  {
   "cell_type": "markdown",
   "source": [
    "### 读取单词表"
   ],
   "metadata": {
    "collapsed": false,
    "pycharm": {
     "name": "#%% md\n"
    }
   }
  },
  {
   "cell_type": "code",
   "execution_count": 3,
   "outputs": [
    {
     "name": "stdout",
     "output_type": "stream",
     "text": [
      "CPU times: user 281 ms, sys: 57.2 ms, total: 338 ms\n",
      "Wall time: 613 ms\n"
     ]
    },
    {
     "data": {
      "text/plain": "          abil\n0       abnorm\n1       absenc\n2       absorb\n3     abstract\n4      acceler\n...        ...\n2412       xml\n2413      year\n2414     zigbe\n2415      zone\n2416      zoom\n\n[2417 rows x 1 columns]",
      "text/html": "<div>\n<style scoped>\n    .dataframe tbody tr th:only-of-type {\n        vertical-align: middle;\n    }\n\n    .dataframe tbody tr th {\n        vertical-align: top;\n    }\n\n    .dataframe thead th {\n        text-align: right;\n    }\n</style>\n<table border=\"1\" class=\"dataframe\">\n  <thead>\n    <tr style=\"text-align: right;\">\n      <th></th>\n      <th>abil</th>\n    </tr>\n  </thead>\n  <tbody>\n    <tr>\n      <th>0</th>\n      <td>abnorm</td>\n    </tr>\n    <tr>\n      <th>1</th>\n      <td>absenc</td>\n    </tr>\n    <tr>\n      <th>2</th>\n      <td>absorb</td>\n    </tr>\n    <tr>\n      <th>3</th>\n      <td>abstract</td>\n    </tr>\n    <tr>\n      <th>4</th>\n      <td>acceler</td>\n    </tr>\n    <tr>\n      <th>...</th>\n      <td>...</td>\n    </tr>\n    <tr>\n      <th>2412</th>\n      <td>xml</td>\n    </tr>\n    <tr>\n      <th>2413</th>\n      <td>year</td>\n    </tr>\n    <tr>\n      <th>2414</th>\n      <td>zigbe</td>\n    </tr>\n    <tr>\n      <th>2415</th>\n      <td>zone</td>\n    </tr>\n    <tr>\n      <th>2416</th>\n      <td>zoom</td>\n    </tr>\n  </tbody>\n</table>\n<p>2417 rows × 1 columns</p>\n</div>"
     },
     "execution_count": 3,
     "metadata": {},
     "output_type": "execute_result"
    }
   ],
   "source": [
    "%%time\n",
    "words = pd.read_excel('./dataset/word.xlsx')\n",
    "words"
   ],
   "metadata": {
    "collapsed": false,
    "pycharm": {
     "name": "#%%\n"
    }
   }
  },
  {
   "cell_type": "markdown",
   "id": "e63404cd-934d-4e02-99dc-b46b74f16aaf",
   "metadata": {
    "pycharm": {
     "name": "#%% md\n"
    }
   },
   "source": [
    "### 创建单词字典"
   ]
  },
  {
   "cell_type": "code",
   "execution_count": 4,
   "id": "1961164f-b90d-4a13-a4f5-7524aec834cc",
   "metadata": {
    "pycharm": {
     "name": "#%%\n"
    }
   },
   "outputs": [],
   "source": [
    "def create_set(words):\n",
    "    word_dict = {}\n",
    "    for i in range(len(words)):\n",
    "        word = words.iloc[i, 0]\n",
    "        word_dict[word] = word\n",
    "    return word_dict"
   ]
  },
  {
   "cell_type": "code",
   "execution_count": 5,
   "id": "8635bba5-52e5-4767-b2b4-6f476a1f9edf",
   "metadata": {
    "pycharm": {
     "name": "#%%\n"
    }
   },
   "outputs": [
    {
     "data": {
      "text/plain": "{'abnorm': 'abnorm',\n 'absenc': 'absenc',\n 'absorb': 'absorb',\n 'abstract': 'abstract',\n 'acceler': 'acceler',\n 'acceleromet': 'acceleromet',\n 'accept': 'accept',\n 'access': 'access',\n 'accessori': 'accessori',\n 'accid': 'accid',\n 'accommod': 'accommod',\n 'accord': 'accord',\n 'account': 'account',\n 'accumul': 'accumul',\n 'accur': 'accur',\n 'accuraci': 'accuraci',\n 'achiev': 'achiev',\n 'acid': 'acid',\n 'ack': 'ack',\n 'acknowledg': 'acknowledg',\n 'acoust': 'acoust',\n 'acquir': 'acquir',\n 'acquisit': 'acquisit',\n 'act': 'act',\n 'action': 'action',\n 'activ': 'activ',\n 'actual': 'actual',\n 'actuat': 'actuat',\n 'acut': 'acut',\n 'adapt': 'adapt',\n 'adc': 'adc',\n 'add': 'add',\n 'addit': 'addit',\n 'address': 'address',\n 'adequ': 'adequ',\n 'adher': 'adher',\n 'adhes': 'adhes',\n 'adjac': 'adjac',\n 'adjust': 'adjust',\n 'administ': 'administ',\n 'administr': 'administr',\n 'admiss': 'admiss',\n 'admit': 'admit',\n 'adopt': 'adopt',\n 'advanc': 'advanc',\n 'advantag': 'advantag',\n 'advers': 'advers',\n 'advertis': 'advertis',\n 'advic': 'advic',\n 'affect': 'affect',\n 'affix': 'affix',\n 'age': 'age',\n 'agenc': 'agenc',\n 'agent': 'agent',\n 'aggreg': 'aggreg',\n 'agre': 'agre',\n 'agricultur': 'agricultur',\n 'aid': 'aid',\n 'aim': 'aim',\n 'air': 'air',\n 'airplan': 'airplan',\n 'alarm': 'alarm',\n 'album': 'album',\n 'alert': 'alert',\n 'algorithm': 'algorithm',\n 'align': 'align',\n 'allerg': 'allerg',\n 'allergi': 'allergi',\n 'allevi': 'allevi',\n 'alloc': 'alloc',\n 'allow': 'allow',\n 'alter': 'alter',\n 'altern': 'altern',\n 'alzheim': 'alzheim',\n 'ambient': 'ambient',\n 'ambigu': 'ambigu',\n 'ambul': 'ambul',\n 'ambulatori': 'ambulatori',\n 'amount': 'amount',\n 'amplif': 'amplif',\n 'amplifi': 'amplifi',\n 'amplitud': 'amplitud',\n 'analog': 'analog',\n 'analysi': 'analysi',\n 'analyt': 'analyt',\n 'analyz': 'analyz',\n 'anatom': 'anatom',\n 'anatomi': 'anatomi',\n 'android': 'android',\n 'angiographi': 'angiographi',\n 'angl': 'angl',\n 'angular': 'angular',\n 'anim': 'anim',\n 'ankl': 'ankl',\n 'anklet': 'anklet',\n 'annot': 'annot',\n 'anonym': 'anonym',\n 'answer': 'answer',\n 'antenna': 'antenna',\n 'anti': 'anti',\n 'apertur': 'apertur',\n 'api': 'api',\n 'app': 'app',\n 'apparatus': 'apparatus',\n 'apparel': 'apparel',\n 'appcessori': 'appcessori',\n 'appear': 'appear',\n 'appl': 'appl',\n 'appli': 'appli',\n 'applianc': 'applianc',\n 'applic': 'applic',\n 'appoint': 'appoint',\n 'approach': 'approach',\n 'appropri': 'appropri',\n 'approv': 'approv',\n 'approxim': 'approxim',\n 'arbitrari': 'arbitrari',\n 'arc': 'arc',\n 'architectur': 'architectur',\n 'archiv': 'archiv',\n 'area': 'area',\n 'aris': 'aris',\n 'arm': 'arm',\n 'arrang': 'arrang',\n 'array': 'array',\n 'arrest': 'arrest',\n 'arrhythmia': 'arrhythmia',\n 'arriv': 'arriv',\n 'art': 'art',\n 'arteri': 'arteri',\n 'arthriti': 'arthriti',\n 'articl': 'articl',\n 'artifact': 'artifact',\n 'artifici': 'artifici',\n 'aspect': 'aspect',\n 'assay': 'assay',\n 'assembl': 'assembl',\n 'assess': 'assess',\n 'asset': 'asset',\n 'assign': 'assign',\n 'assist': 'assist',\n 'associ': 'associ',\n 'assur': 'assur',\n 'asthma': 'asthma',\n 'athlet': 'athlet',\n 'atm': 'atm',\n 'atom': 'atom',\n 'attach': 'attach',\n 'attack': 'attack',\n 'attain': 'attain',\n 'attempt': 'attempt',\n 'attend': 'attend',\n 'attent': 'attent',\n 'attenu': 'attenu',\n 'attribut': 'attribut',\n 'audibl': 'audibl',\n 'audio': 'audio',\n 'audit': 'audit',\n 'augment': 'augment',\n 'auscult': 'auscult',\n 'authent': 'authent',\n 'author': 'author',\n 'auto': 'auto',\n 'autom': 'autom',\n 'automat': 'automat',\n 'automobil': 'automobil',\n 'automot': 'automot',\n 'autonom': 'autonom',\n 'auxiliari': 'auxiliari',\n 'avail': 'avail',\n 'averag': 'averag',\n 'aviat': 'aviat',\n 'avion': 'avion',\n 'avoid': 'avoid',\n 'awar': 'awar',\n 'axi': 'axi',\n 'axial': 'axial',\n 'back': 'back',\n 'background': 'background',\n 'backup': 'backup',\n 'bad': 'bad',\n 'bag': 'bag',\n 'balanc': 'balanc',\n 'ball': 'ball',\n 'band': 'band',\n 'bandag': 'bandag',\n 'bandwidth': 'bandwidth',\n 'bank': 'bank',\n 'bar': 'bar',\n 'barcod': 'barcod',\n 'barrier': 'barrier',\n 'base': 'base',\n 'baselin': 'baselin',\n 'basi': 'basi',\n 'basic': 'basic',\n 'batch': 'batch',\n 'batteri': 'batteri',\n 'beacon': 'beacon',\n 'beam': 'beam',\n 'bear': 'bear',\n 'beat': 'beat',\n 'bed': 'bed',\n 'bedsid': 'bedsid',\n 'begin': 'begin',\n 'behavior': 'behavior',\n 'belong': 'belong',\n 'belt': 'belt',\n 'bend': 'bend',\n 'benefici': 'benefici',\n 'benefit': 'benefit',\n 'bezel': 'bezel',\n 'bias': 'bias',\n 'bicycl': 'bicycl',\n 'bid': 'bid',\n 'bidirect': 'bidirect',\n 'big': 'big',\n 'bill': 'bill',\n 'bin': 'bin',\n 'binari': 'binari',\n 'bind': 'bind',\n 'bio': 'bio',\n 'biolog': 'biolog',\n 'biomark': 'biomark',\n 'biomed': 'biomed',\n 'biometr': 'biometr',\n 'biosensor': 'biosensor',\n 'birth': 'birth',\n 'bit': 'bit',\n 'bite': 'bite',\n 'black': 'black',\n 'bladder': 'bladder',\n 'blade': 'blade',\n 'blind': 'blind',\n 'block': 'block',\n 'blockchain': 'blockchain',\n 'blood': 'blood',\n 'blue': 'blue',\n 'bluetooth': 'bluetooth',\n 'bmi': 'bmi',\n 'board': 'board',\n 'bodi': 'bodi',\n 'boiler': 'boiler',\n 'bolt': 'bolt',\n 'bond': 'bond',\n 'bone': 'bone',\n 'book': 'book',\n 'boost': 'boost',\n 'boot': 'boot',\n 'bottl': 'bottl',\n 'bottom': 'bottom',\n 'bound': 'bound',\n 'boundari': 'boundari',\n 'box': 'box',\n 'brace': 'brace',\n 'bracelet': 'bracelet',\n 'bracket': 'bracket',\n 'brain': 'brain',\n 'branch': 'branch',\n 'brand': 'brand',\n 'break': 'break',\n 'breast': 'breast',\n 'breath': 'breath',\n 'bridg': 'bridg',\n 'bright': 'bright',\n 'bring': 'bring',\n 'broadband': 'broadband',\n 'broadcast': 'broadcast',\n 'brows': 'brows',\n 'browser': 'browser',\n 'buckl': 'buckl',\n 'buff': 'buff',\n 'buffer': 'buffer',\n 'build': 'build',\n 'bulb': 'bulb',\n 'burden': 'burden',\n 'burn': 'burn',\n 'bus': 'bus',\n 'busi': 'busi',\n 'button': 'button',\n 'cabin': 'cabin',\n 'cabinet': 'cabinet',\n 'cabl': 'cabl',\n 'cach': 'cach',\n 'cad': 'cad',\n 'calcul': 'calcul',\n 'calendar': 'calendar',\n 'calibr': 'calibr',\n 'call': 'call',\n 'calori': 'calori',\n 'cam': 'cam',\n 'camcord': 'camcord',\n 'camera': 'camera',\n 'cancel': 'cancel',\n 'cancer': 'cancer',\n 'candid': 'candid',\n 'cap': 'cap',\n 'capabl': 'capabl',\n 'capac': 'capac',\n 'capacit': 'capacit',\n 'capacitor': 'capacitor',\n 'capsul': 'capsul',\n 'captur': 'captur',\n 'car': 'car',\n 'carbon': 'carbon',\n 'card': 'card',\n 'cardiac': 'cardiac',\n 'cardio': 'cardio',\n 'cardiogram': 'cardiogram',\n 'cardiolog': 'cardiolog',\n 'cardiologist': 'cardiologist',\n 'cardiovascular': 'cardiovascular',\n 'cardiovert': 'cardiovert',\n 'care': 'care',\n 'caregiv': 'caregiv',\n 'carri': 'carri',\n 'carrier': 'carrier',\n 'cart': 'cart',\n 'case': 'case',\n 'categor': 'categor',\n 'categori': 'categori',\n 'cathet': 'cathet',\n 'caus': 'caus',\n 'caviti': 'caviti',\n 'cdma': 'cdma',\n 'cell': 'cell',\n 'cellular': 'cellular',\n 'center': 'center',\n 'centr': 'centr',\n 'central': 'central',\n 'cerebr': 'cerebr',\n 'certif': 'certif',\n 'chain': 'chain',\n 'chair': 'chair',\n 'chamber': 'chamber',\n 'chanc': 'chanc',\n 'chang': 'chang',\n 'channel': 'channel',\n 'charact': 'charact',\n 'character': 'character',\n 'characterist': 'characterist',\n 'charg': 'charg',\n 'charger': 'charger',\n 'chart': 'chart',\n 'chat': 'chat',\n 'check': 'check',\n 'chemic': 'chemic',\n 'chest': 'chest',\n 'child': 'child',\n 'chines': 'chines',\n 'chip': 'chip',\n 'choic': 'choic',\n 'choos': 'choos',\n 'chronic': 'chronic',\n 'cipher': 'cipher',\n 'circuit': 'circuit',\n 'circuitri': 'circuitri',\n 'circul': 'circul',\n 'circular': 'circular',\n 'circumfer': 'circumfer',\n 'circumst': 'circumst',\n 'citi': 'citi',\n 'claim': 'claim',\n 'clamp': 'clamp',\n 'class': 'class',\n 'classif': 'classif',\n 'classifi': 'classifi',\n 'clean': 'clean',\n 'clear': 'clear',\n 'click': 'click',\n 'client': 'client',\n 'clinic': 'clinic',\n 'clinician': 'clinician',\n 'clip': 'clip',\n 'clock': 'clock',\n 'close': 'close',\n 'cloth': 'cloth',\n 'cloud': 'cloud',\n 'cluster': 'cluster',\n 'coach': 'coach',\n 'coat': 'coat',\n 'code': 'code',\n 'coeffici': 'coeffici',\n 'cognit': 'cognit',\n 'cohort': 'cohort',\n 'coil': 'coil',\n 'collabor': 'collabor',\n 'collect': 'collect',\n 'collector': 'collector',\n 'collis': 'collis',\n 'color': 'color',\n 'column': 'column',\n 'combin': 'combin',\n 'comfort': 'comfort',\n 'command': 'command',\n 'comment': 'comment',\n 'commerc': 'commerc',\n 'commerci': 'commerci',\n 'common': 'common',\n 'communic': 'communic',\n 'communiti': 'communiti',\n 'compact': 'compact',\n 'compani': 'compani',\n 'compar': 'compar',\n 'comparison': 'comparison',\n 'compart': 'compart',\n 'compass': 'compass',\n 'compat': 'compat',\n 'compens': 'compens',\n 'compet': 'compet',\n 'compil': 'compil',\n 'complaint': 'complaint',\n 'complet': 'complet',\n 'complex': 'complex',\n 'compli': 'compli',\n 'complianc': 'complianc',\n 'compliant': 'compliant',\n 'complic': 'complic',\n 'compon': 'compon',\n 'compos': 'compos',\n 'composit': 'composit',\n 'compound': 'compound',\n 'comprehens': 'comprehens',\n 'compress': 'compress',\n 'compris': 'compris',\n 'compromis': 'compromis',\n 'comput': 'comput',\n 'computer': 'computer',\n 'concav': 'concav',\n 'concentr': 'concentr',\n 'concept': 'concept',\n 'concern': 'concern',\n 'concurr': 'concurr',\n 'condit': 'condit',\n 'condition': 'condition',\n 'conduct': 'conduct',\n 'conductor': 'conductor',\n 'confer': 'confer',\n 'conferenc': 'conferenc',\n 'confid': 'confid',\n 'confidenti': 'confidenti',\n 'configur': 'configur',\n 'confirm': 'confirm',\n 'conflict': 'conflict',\n 'conform': 'conform',\n 'congest': 'congest',\n 'conjunct': 'conjunct',\n 'connect': 'connect',\n 'connector': 'connector',\n 'consent': 'consent',\n 'conserv': 'conserv',\n 'consid': 'consid',\n 'consider': 'consider',\n 'consist': 'consist',\n 'consol': 'consol',\n 'consolid': 'consolid',\n 'constant': 'constant',\n 'constitut': 'constitut',\n 'constrain': 'constrain',\n 'constraint': 'constraint',\n 'construct': 'construct',\n 'consult': 'consult',\n 'consum': 'consum',\n 'consumpt': 'consumpt',\n 'contact': 'contact',\n 'contain': 'contain',\n 'contamin': 'contamin',\n 'content': 'content',\n 'context': 'context',\n 'contextu': 'contextu',\n 'continu': 'continu',\n 'contract': 'contract',\n 'contrast': 'contrast',\n 'contribut': 'contribut',\n 'control': 'control',\n 'conveni': 'conveni',\n 'convent': 'convent',\n 'converg': 'converg',\n 'convers': 'convers',\n 'convert': 'convert',\n 'convex': 'convex',\n 'convey': 'convey',\n 'convolut': 'convolut',\n 'cool': 'cool',\n 'cooper': 'cooper',\n 'coordin': 'coordin',\n 'copi': 'copi',\n 'cord': 'cord',\n 'cordless': 'cordless',\n 'core': 'core',\n 'corner': 'corner',\n 'coronari': 'coronari',\n 'corpor': 'corpor',\n 'corpus': 'corpus',\n 'correct': 'correct',\n 'correl': 'correl',\n 'correspond': 'correspond',\n 'cosmet': 'cosmet',\n 'cost': 'cost',\n 'counsel': 'counsel',\n 'count': 'count',\n 'counter': 'counter',\n 'countri': 'countri',\n 'coupl': 'coupl',\n 'cover': 'cover',\n 'coverag': 'coverag',\n 'covid': 'covid',\n 'cpu': 'cpu',\n 'creat': 'creat',\n 'creation': 'creation',\n 'credenti': 'credenti',\n 'credit': 'credit',\n 'crime': 'crime',\n 'criterion': 'criterion',\n 'critic': 'critic',\n 'crop': 'crop',\n 'cross': 'cross',\n 'crowd': 'crowd',\n 'cryptograph': 'cryptograph',\n 'crystal': 'crystal',\n 'csi': 'csi',\n 'cuff': 'cuff',\n 'cultur': 'cultur',\n 'cumul': 'cumul',\n 'cup': 'cup',\n 'cure': 'cure',\n 'current': 'current',\n 'curv': 'curv',\n 'custom': 'custom',\n 'customiz': 'customiz',\n 'cut': 'cut',\n 'cycl': 'cycl',\n 'cyclic': 'cyclic',\n 'cylind': 'cylind',\n 'daili': 'daili',\n 'damag': 'damag',\n 'danger': 'danger',\n 'dashboard': 'dashboard',\n 'databas': 'databas',\n 'dataset': 'dataset',\n 'date': 'date',\n 'datum': 'datum',\n 'day': 'day',\n 'dci': 'dci',\n 'deactiv': 'deactiv',\n 'death': 'death',\n 'decid': 'decid',\n 'decis': 'decis',\n 'decod': 'decod',\n 'decreas': 'decreas',\n 'decrypt': 'decrypt',\n 'dedic': 'dedic',\n 'deep': 'deep',\n 'default': 'default',\n 'defect': 'defect',\n 'defibril': 'defibril',\n 'defici': 'defici',\n 'defin': 'defin',\n 'definit': 'definit',\n 'deform': 'deform',\n 'degrad': 'degrad',\n 'degre': 'degre',\n 'delay': 'delay',\n 'delet': 'delet',\n 'deliv': 'deliv',\n 'deliveri': 'deliveri',\n 'demand': 'demand',\n 'demodul': 'demodul',\n 'demograph': 'demograph',\n 'demonstr': 'demonstr',\n 'densiti': 'densiti',\n 'dental': 'dental',\n 'dentist': 'dentist',\n 'depart': 'depart',\n 'depend': 'depend',\n 'depict': 'depict',\n 'deploy': 'deploy',\n 'deposit': 'deposit',\n 'depress': 'depress',\n 'depth': 'depth',\n 'deriv': 'deriv',\n 'describ': 'describ',\n 'descript': 'descript',\n 'design': 'design',\n 'desir': 'desir',\n 'desk': 'desk',\n 'desktop': 'desktop',\n 'destin': 'destin',\n 'detach': 'detach',\n 'detail': 'detail',\n 'detect': 'detect',\n 'detector': 'detector',\n 'deterior': 'deterior',\n 'determin': 'determin',\n 'develop': 'develop',\n 'deviat': 'deviat',\n 'devic': 'devic',\n 'diabet': 'diabet',\n 'diagnos': 'diagnos',\n 'diagnosi': 'diagnosi',\n 'diagnost': 'diagnost',\n 'diagram': 'diagram',\n 'dial': 'dial',\n 'dialog': 'dialog',\n 'diamet': 'diamet',\n 'dicom': 'dicom',\n 'dictionari': 'dictionari',\n 'die': 'die',\n 'dielectr': 'dielectr',\n 'diet': 'diet',\n 'differ': 'differ',\n 'differenti': 'differenti',\n 'difficult': 'difficult',\n 'difficulti': 'difficulti',\n 'diffus': 'diffus',\n 'digest': 'digest',\n 'digit': 'digit',\n 'dimens': 'dimens',\n 'dimension': 'dimension',\n 'diod': 'diod',\n 'direct': 'direct',\n 'directori': 'directori',\n 'disabl': 'disabl',\n 'disast': 'disast',\n 'disc': 'disc',\n 'discharg': 'discharg',\n 'disclos': 'disclos',\n 'discomfort': 'discomfort',\n 'disconnect': 'disconnect',\n 'discontinu': 'discontinu',\n 'discov': 'discov',\n 'discoveri': 'discoveri',\n 'discret': 'discret',\n 'discrimin': 'discrimin',\n 'discuss': 'discuss',\n 'diseas': 'diseas',\n 'disk': 'disk',\n 'disord': 'disord',\n 'dispar': 'dispar',\n 'dispatch': 'dispatch',\n 'dispens': 'dispens',\n 'dispers': 'dispers',\n 'displac': 'displac',\n 'display': 'display',\n 'dispos': 'dispos',\n 'dissemin': 'dissemin',\n 'dissimilar': 'dissimilar',\n 'distal': 'distal',\n 'distanc': 'distanc',\n 'distant': 'distant',\n 'distinct': 'distinct',\n 'distinguish': 'distinguish',\n 'distort': 'distort',\n 'distribut': 'distribut',\n 'disturb': 'disturb',\n 'divers': 'divers',\n 'divid': 'divid',\n 'divis': 'divis',\n 'dna': 'dna',\n 'dock': 'dock',\n 'doctor': 'doctor',\n 'document': 'document',\n 'domain': 'domain',\n 'domest': 'domest',\n 'door': 'door',\n 'dosag': 'dosag',\n 'dose': 'dose',\n 'doubl': 'doubl',\n 'downlink': 'downlink',\n 'download': 'download',\n 'draw': 'draw',\n 'dri': 'dri',\n 'drive': 'drive',\n 'driver': 'driver',\n 'drone': 'drone',\n 'drop': 'drop',\n 'drug': 'drug',\n 'dual': 'dual',\n 'duct': 'duct',\n 'due': 'due',\n 'duplic': 'duplic',\n 'durabl': 'durabl',\n 'durat': 'durat',\n 'dust': 'dust',\n 'duti': 'duti',\n 'dvd': 'dvd',\n 'dwg': 'dwg',\n 'dynam': 'dynam',\n 'ear': 'ear',\n 'earli': 'earli',\n 'earphon': 'earphon',\n 'eas': 'eas',\n 'easi': 'easi',\n 'easili': 'easili',\n 'eat': 'eat',\n 'ecg': 'ecg',\n 'echo': 'echo',\n 'econom': 'econom',\n 'edg': 'edg',\n 'edit': 'edit',\n 'editor': 'editor',\n 'edr': 'edr',\n 'educ': 'educ',\n 'eeg': 'eeg',\n 'effect': 'effect',\n 'efficaci': 'efficaci',\n 'effici': 'effici',\n 'effort': 'effort',\n 'ehr': 'ehr',\n 'elaps': 'elaps',\n 'elast': 'elast',\n 'elder': 'elder',\n 'electr': 'electr',\n 'electro': 'electro',\n 'electrocardio': 'electrocardio',\n 'electrocardiogram': 'electrocardiogram',\n 'electrocardiograph': 'electrocardiograph',\n 'electrod': 'electrod',\n 'electromagnet': 'electromagnet',\n 'electromyographi': 'electromyographi',\n 'electron': 'electron',\n 'element': 'element',\n 'elev': 'elev',\n 'elig': 'elig',\n 'elimin': 'elimin',\n 'elong': 'elong',\n 'email': 'email',\n 'emb': 'emb',\n 'embodi': 'embodi',\n 'emerg': 'emerg',\n 'emiss': 'emiss',\n 'emit': 'emit',\n 'emitt': 'emitt',\n 'emot': 'emot',\n 'employ': 'employ',\n 'employe': 'employe',\n 'emr': 'emr',\n 'enabl': 'enabl',\n 'encapsul': 'encapsul',\n 'enclos': 'enclos',\n 'encod': 'encod',\n 'encount': 'encount',\n 'encourag': 'encourag',\n 'encrypt': 'encrypt',\n 'end': 'end',\n 'endoscop': 'endoscop',\n 'endoscopi': 'endoscopi',\n 'energi': 'energi',\n 'enforc': 'enforc',\n 'engag': 'engag',\n 'engin': 'engin',\n 'english': 'english',\n 'enhanc': 'enhanc',\n 'enlarg': 'enlarg',\n 'enrich': 'enrich',\n 'enrol': 'enrol',\n 'ensur': 'ensur',\n 'enter': 'enter',\n 'enterpris': 'enterpris',\n 'entertain': 'entertain',\n 'entir': 'entir',\n 'entiti': 'entiti',\n 'entri': 'entri',\n 'environ': 'environ',\n 'environment': 'environment',\n 'epidem': 'epidem',\n 'episod': 'episod',\n 'equal': 'equal',\n 'equat': 'equat',\n 'equip': 'equip',\n 'equival': 'equival',\n 'error': 'error',\n 'essenti': 'essenti',\n 'establish': 'establish',\n 'estim': 'estim',\n 'ethernet': 'ethernet',\n 'evalu': 'evalu',\n 'event': 'event',\n 'evid': 'evid',\n 'evolut': 'evolut',\n 'evolv': 'evolv',\n 'exact': 'exact',\n 'exam': 'exam',\n 'examin': 'examin',\n 'examine': 'examine',\n 'excav': 'excav',\n 'exceed': 'exceed',\n 'excel': 'excel',\n 'excess': 'excess',\n 'exchang': 'exchang',\n 'exclud': 'exclud',\n 'exclus': 'exclus',\n 'execut': 'execut',\n 'exercis': 'exercis',\n 'exhibit': 'exhibit',\n 'exist': 'exist',\n 'exit': 'exit',\n 'expand': 'expand',\n 'expans': 'expans',\n 'expect': 'expect',\n 'expens': 'expens',\n 'experi': 'experi',\n 'expert': 'expert',\n 'expir': 'expir',\n 'explain': 'explain',\n 'explan': 'explan',\n 'explanatori': 'explanatori',\n 'explod': 'explod',\n 'explor': 'explor',\n 'expos': 'expos',\n 'exposur': 'exposur',\n 'express': 'express',\n 'extend': 'extend',\n 'extens': 'extens',\n 'extent': 'extent',\n 'exterior': 'exterior',\n 'extern': 'extern',\n 'extract': 'extract',\n 'extrem': 'extrem',\n 'eye': 'eye',\n 'eyeglass': 'eyeglass',\n 'fabric': 'fabric',\n 'face': 'face',\n 'facial': 'facial',\n 'facil': 'facil',\n 'facilit': 'facilit',\n 'fact': 'fact',\n 'factor': 'factor',\n 'factori': 'factori',\n 'fail': 'fail',\n 'failur': 'failur',\n 'fall': 'fall',\n 'fals': 'fals',\n 'famili': 'famili',\n 'fan': 'fan',\n 'fashion': 'fashion',\n 'fast': 'fast',\n 'fasten': 'fasten',\n 'fat': 'fat',\n 'fatigu': 'fatigu',\n 'fault': 'fault',\n 'fdr': 'fdr',\n 'featur': 'featur',\n 'fee': 'fee',\n 'feed': 'feed',\n 'feedback': 'feedback',\n 'feel': 'feel',\n 'femal': 'femal',\n 'fet': 'fet',\n 'fetal': 'fetal',\n 'fetch': 'fetch',\n 'few': 'few',\n 'fiber': 'fiber',\n 'fibril': 'fibril',\n 'fidel': 'fidel',\n 'field': 'field',\n 'figur': 'figur',\n 'file': 'file',\n 'fill': 'fill',\n 'film': 'film',\n 'filter': 'filter',\n 'final': 'final',\n 'financ': 'financ',\n 'financi': 'financi',\n 'find': 'find',\n 'fine': 'fine',\n 'finger': 'finger',\n 'fingerprint': 'fingerprint',\n 'finish': 'finish',\n 'fire': 'fire',\n 'firewal': 'firewal',\n 'firm': 'firm',\n 'firmwar': 'firmwar',\n 'fit': 'fit',\n 'fix': 'fix',\n 'flag': 'flag',\n 'flash': 'flash',\n 'flat': 'flat',\n 'flexibl': 'flexibl',\n 'fli': 'fli',\n 'flight': 'flight',\n 'float': 'float',\n 'floor': 'floor',\n 'flow': 'flow',\n 'flowchart': 'flowchart',\n 'fluid': 'fluid',\n 'focus': 'focus',\n 'fold': 'fold',\n 'foldabl': 'foldabl',\n 'follow': 'follow',\n 'food': 'food',\n 'foot': 'foot',\n 'forc': 'forc',\n 'forecast': 'forecast',\n 'foreign': 'foreign',\n 'forest': 'forest',\n 'form': 'form',\n 'format': 'format',\n 'formul': 'formul',\n 'formula': 'formula',\n 'forward': 'forward',\n 'fragment': 'fragment',\n 'frame': 'frame',\n 'framework': 'framework',\n 'fraud': 'fraud',\n 'free': 'free',\n 'freedom': 'freedom',\n 'freeli': 'freeli',\n 'frequenc': 'frequenc',\n 'frequent': 'frequent',\n 'fresh': 'fresh',\n 'friction': 'friction',\n 'friend': 'friend',\n 'front': 'front',\n 'frost': 'frost',\n 'fulfil': 'fulfil',\n 'full': 'full',\n 'fulli': 'fulli',\n 'function': 'function',\n 'furnitur': 'furnitur',\n 'fuse': 'fuse',\n 'fusion': 'fusion',\n 'futur': 'futur',\n 'gain': 'gain',\n 'game': 'game',\n 'gap': 'gap',\n 'garment': 'garment',\n 'gas': 'gas',\n 'gate': 'gate',\n 'gateway': 'gateway',\n 'gather': 'gather',\n 'gear': 'gear',\n 'gel': 'gel',\n 'gender': 'gender',\n 'gene': 'gene',\n 'general': 'general',\n 'generat': 'generat',\n 'genet': 'genet',\n 'genom': 'genom',\n 'geo': 'geo',\n 'geograph': 'geograph',\n 'geometr': 'geometr',\n 'gestur': 'gestur',\n 'ghz': 'ghz',\n 'give': 'give',\n 'glass': 'glass',\n 'global': 'global',\n 'glove': 'glove',\n 'glucos': 'glucos',\n 'gnss': 'gnss',\n 'goal': 'goal',\n 'good': 'good',\n 'googl': 'googl',\n 'govern': 'govern',\n 'gprs': 'gprs',\n 'grade': 'grade',\n 'gradient': 'gradient',\n 'grant': 'grant',\n 'granular': 'granular',\n 'graph': 'graph',\n 'graphic': 'graphic',\n 'grasp': 'grasp',\n 'great': 'great',\n 'grid': 'grid',\n 'grind': 'grind',\n 'grip': 'grip',\n 'groov': 'groov',\n 'ground': 'ground',\n 'group': 'group',\n 'growth': 'growth',\n 'gsm': 'gsm',\n 'guarante': 'guarante',\n 'guard': 'guard',\n 'guardian': 'guardian',\n 'gui': 'gui',\n 'guid': 'guid',\n 'guidanc': 'guidanc',\n 'guidelin': 'guidelin',\n 'gyro': 'gyro',\n 'gyrocompass': 'gyrocompass',\n 'gyroscop': 'gyroscop',\n 'habit': 'habit',\n 'hair': 'hair',\n 'half': 'half',\n 'hand': 'hand',\n 'handheld': 'handheld',\n 'handl': 'handl',\n 'handwrit': 'handwrit',\n 'hang': 'hang',\n 'haptic': 'haptic',\n 'har': 'har',\n 'hard': 'hard',\n 'hardwar': 'hardwar',\n 'harm': 'harm',\n 'hash': 'hash',\n 'have': 'have',\n 'head': 'head',\n 'header': 'header',\n 'headphon': 'headphon',\n 'headset': 'headset',\n 'heal': 'heal',\n ...}"
     },
     "execution_count": 5,
     "metadata": {},
     "output_type": "execute_result"
    }
   ],
   "source": [
    "word_dict = create_set(words)\n",
    "word_dict"
   ]
  },
  {
   "cell_type": "markdown",
   "id": "e8c2080f",
   "metadata": {
    "pycharm": {
     "name": "#%% md\n"
    }
   },
   "source": [
    "### 压缩all"
   ]
  },
  {
   "cell_type": "code",
   "execution_count": 6,
   "id": "97ce91d7",
   "metadata": {
    "collapsed": false,
    "jupyter": {
     "outputs_hidden": false
    },
    "pycharm": {
     "name": "#%%\n"
    }
   },
   "outputs": [],
   "source": [
    "def squeeze_all(all, word_dict):\n",
    "    res = []\n",
    "    for i in range(len(all)):\n",
    "        row = all.iloc[i, 0]\n",
    "        if word_dict.__contains__(row): # 存在字典里的话先存进list最后转为DataFrame效率最优！\n",
    "            res.append(all.iloc[i, :].values)\n",
    "    return pd.DataFrame(res)"
   ]
  },
  {
   "cell_type": "code",
   "execution_count": 7,
   "outputs": [
    {
     "name": "stdout",
     "output_type": "stream",
     "text": [
      "CPU times: user 30 s, sys: 3.12 s, total: 33.1 s\n",
      "Wall time: 34.1 s\n"
     ]
    }
   ],
   "source": [
    "%%time\n",
    "res = squeeze_all(all, word_dict)"
   ],
   "metadata": {
    "collapsed": false,
    "pycharm": {
     "name": "#%%\n"
    }
   }
  },
  {
   "cell_type": "code",
   "execution_count": 8,
   "outputs": [
    {
     "data": {
      "text/plain": "           0      1      2      3      4      5      6      7      8      \\\n0         absorb    0.0    0.0    0.0    0.0    0.0    0.0    0.0    0.0   \n1       advantag    0.0    0.0    0.0    0.0    0.0    0.0    0.0    0.0   \n2         biolog    0.0    0.0    0.0    0.0    0.0    0.0    0.0    0.0   \n3           bodi    0.0    0.0    0.0    0.0    0.0    0.0    0.0    0.0   \n4         capabl    0.0    0.0    0.0    0.0    0.0    0.0    0.0    0.0   \n...          ...    ...    ...    ...    ...    ...    ...    ...    ...   \n2409         uid    0.0    0.0    0.0    0.0    0.0    0.0    0.0    0.0   \n2410  blockchain    0.0    0.0    0.0    0.0    0.0    0.0    0.0    0.0   \n2411        ofdm    0.0    0.0    0.0    0.0    0.0    0.0    0.0    0.0   \n2412        lstm    0.0    0.0    0.0    0.0    0.0    0.0    0.0    0.0   \n2413       covid    0.0    0.0    0.0    0.0    0.0    0.0    0.0    0.0   \n\n      9      ...  15107  15108  15109  15110  15111  15112  15113  15114  \\\n0       0.0  ...    0.0    0.0    0.0    0.0    0.0    0.0    0.0    0.0   \n1       0.0  ...    0.0    0.0    0.0    0.0    0.0    0.0    0.0    0.0   \n2       0.0  ...    0.0    0.0    0.0    0.0    0.0    0.0    0.0    0.0   \n3       0.0  ...    0.0    0.0    0.0    0.0    0.0    0.0    0.0    0.0   \n4       0.0  ...    0.0    0.0    0.0    0.0    0.0    0.0    0.0    0.0   \n...     ...  ...    ...    ...    ...    ...    ...    ...    ...    ...   \n2409    0.0  ...    0.0    0.0    0.0    0.0    0.0    0.0    0.0    0.0   \n2410    0.0  ...    0.0    0.0    0.0    0.0    0.0    0.0    0.0    0.0   \n2411    0.0  ...    0.0    0.0    0.0    0.0    0.0    0.0    0.0    0.0   \n2412    0.0  ...    0.0    0.0    0.0    0.0    0.0    0.0    0.0    0.0   \n2413    0.0  ...    0.0    0.0    0.0    0.0    0.0    0.0    0.0    0.0   \n\n      15115  15116  \n0       0.0    0.0  \n1       0.0    0.0  \n2       0.0    0.0  \n3       0.0    0.0  \n4       0.0    0.0  \n...     ...    ...  \n2409    0.0    0.0  \n2410    0.0    0.0  \n2411    0.0    0.0  \n2412    0.0    0.0  \n2413    0.0    0.0  \n\n[2414 rows x 15117 columns]",
      "text/html": "<div>\n<style scoped>\n    .dataframe tbody tr th:only-of-type {\n        vertical-align: middle;\n    }\n\n    .dataframe tbody tr th {\n        vertical-align: top;\n    }\n\n    .dataframe thead th {\n        text-align: right;\n    }\n</style>\n<table border=\"1\" class=\"dataframe\">\n  <thead>\n    <tr style=\"text-align: right;\">\n      <th></th>\n      <th>0</th>\n      <th>1</th>\n      <th>2</th>\n      <th>3</th>\n      <th>4</th>\n      <th>5</th>\n      <th>6</th>\n      <th>7</th>\n      <th>8</th>\n      <th>9</th>\n      <th>...</th>\n      <th>15107</th>\n      <th>15108</th>\n      <th>15109</th>\n      <th>15110</th>\n      <th>15111</th>\n      <th>15112</th>\n      <th>15113</th>\n      <th>15114</th>\n      <th>15115</th>\n      <th>15116</th>\n    </tr>\n  </thead>\n  <tbody>\n    <tr>\n      <th>0</th>\n      <td>absorb</td>\n      <td>0.0</td>\n      <td>0.0</td>\n      <td>0.0</td>\n      <td>0.0</td>\n      <td>0.0</td>\n      <td>0.0</td>\n      <td>0.0</td>\n      <td>0.0</td>\n      <td>0.0</td>\n      <td>...</td>\n      <td>0.0</td>\n      <td>0.0</td>\n      <td>0.0</td>\n      <td>0.0</td>\n      <td>0.0</td>\n      <td>0.0</td>\n      <td>0.0</td>\n      <td>0.0</td>\n      <td>0.0</td>\n      <td>0.0</td>\n    </tr>\n    <tr>\n      <th>1</th>\n      <td>advantag</td>\n      <td>0.0</td>\n      <td>0.0</td>\n      <td>0.0</td>\n      <td>0.0</td>\n      <td>0.0</td>\n      <td>0.0</td>\n      <td>0.0</td>\n      <td>0.0</td>\n      <td>0.0</td>\n      <td>...</td>\n      <td>0.0</td>\n      <td>0.0</td>\n      <td>0.0</td>\n      <td>0.0</td>\n      <td>0.0</td>\n      <td>0.0</td>\n      <td>0.0</td>\n      <td>0.0</td>\n      <td>0.0</td>\n      <td>0.0</td>\n    </tr>\n    <tr>\n      <th>2</th>\n      <td>biolog</td>\n      <td>0.0</td>\n      <td>0.0</td>\n      <td>0.0</td>\n      <td>0.0</td>\n      <td>0.0</td>\n      <td>0.0</td>\n      <td>0.0</td>\n      <td>0.0</td>\n      <td>0.0</td>\n      <td>...</td>\n      <td>0.0</td>\n      <td>0.0</td>\n      <td>0.0</td>\n      <td>0.0</td>\n      <td>0.0</td>\n      <td>0.0</td>\n      <td>0.0</td>\n      <td>0.0</td>\n      <td>0.0</td>\n      <td>0.0</td>\n    </tr>\n    <tr>\n      <th>3</th>\n      <td>bodi</td>\n      <td>0.0</td>\n      <td>0.0</td>\n      <td>0.0</td>\n      <td>0.0</td>\n      <td>0.0</td>\n      <td>0.0</td>\n      <td>0.0</td>\n      <td>0.0</td>\n      <td>0.0</td>\n      <td>...</td>\n      <td>0.0</td>\n      <td>0.0</td>\n      <td>0.0</td>\n      <td>0.0</td>\n      <td>0.0</td>\n      <td>0.0</td>\n      <td>0.0</td>\n      <td>0.0</td>\n      <td>0.0</td>\n      <td>0.0</td>\n    </tr>\n    <tr>\n      <th>4</th>\n      <td>capabl</td>\n      <td>0.0</td>\n      <td>0.0</td>\n      <td>0.0</td>\n      <td>0.0</td>\n      <td>0.0</td>\n      <td>0.0</td>\n      <td>0.0</td>\n      <td>0.0</td>\n      <td>0.0</td>\n      <td>...</td>\n      <td>0.0</td>\n      <td>0.0</td>\n      <td>0.0</td>\n      <td>0.0</td>\n      <td>0.0</td>\n      <td>0.0</td>\n      <td>0.0</td>\n      <td>0.0</td>\n      <td>0.0</td>\n      <td>0.0</td>\n    </tr>\n    <tr>\n      <th>...</th>\n      <td>...</td>\n      <td>...</td>\n      <td>...</td>\n      <td>...</td>\n      <td>...</td>\n      <td>...</td>\n      <td>...</td>\n      <td>...</td>\n      <td>...</td>\n      <td>...</td>\n      <td>...</td>\n      <td>...</td>\n      <td>...</td>\n      <td>...</td>\n      <td>...</td>\n      <td>...</td>\n      <td>...</td>\n      <td>...</td>\n      <td>...</td>\n      <td>...</td>\n      <td>...</td>\n    </tr>\n    <tr>\n      <th>2409</th>\n      <td>uid</td>\n      <td>0.0</td>\n      <td>0.0</td>\n      <td>0.0</td>\n      <td>0.0</td>\n      <td>0.0</td>\n      <td>0.0</td>\n      <td>0.0</td>\n      <td>0.0</td>\n      <td>0.0</td>\n      <td>...</td>\n      <td>0.0</td>\n      <td>0.0</td>\n      <td>0.0</td>\n      <td>0.0</td>\n      <td>0.0</td>\n      <td>0.0</td>\n      <td>0.0</td>\n      <td>0.0</td>\n      <td>0.0</td>\n      <td>0.0</td>\n    </tr>\n    <tr>\n      <th>2410</th>\n      <td>blockchain</td>\n      <td>0.0</td>\n      <td>0.0</td>\n      <td>0.0</td>\n      <td>0.0</td>\n      <td>0.0</td>\n      <td>0.0</td>\n      <td>0.0</td>\n      <td>0.0</td>\n      <td>0.0</td>\n      <td>...</td>\n      <td>0.0</td>\n      <td>0.0</td>\n      <td>0.0</td>\n      <td>0.0</td>\n      <td>0.0</td>\n      <td>0.0</td>\n      <td>0.0</td>\n      <td>0.0</td>\n      <td>0.0</td>\n      <td>0.0</td>\n    </tr>\n    <tr>\n      <th>2411</th>\n      <td>ofdm</td>\n      <td>0.0</td>\n      <td>0.0</td>\n      <td>0.0</td>\n      <td>0.0</td>\n      <td>0.0</td>\n      <td>0.0</td>\n      <td>0.0</td>\n      <td>0.0</td>\n      <td>0.0</td>\n      <td>...</td>\n      <td>0.0</td>\n      <td>0.0</td>\n      <td>0.0</td>\n      <td>0.0</td>\n      <td>0.0</td>\n      <td>0.0</td>\n      <td>0.0</td>\n      <td>0.0</td>\n      <td>0.0</td>\n      <td>0.0</td>\n    </tr>\n    <tr>\n      <th>2412</th>\n      <td>lstm</td>\n      <td>0.0</td>\n      <td>0.0</td>\n      <td>0.0</td>\n      <td>0.0</td>\n      <td>0.0</td>\n      <td>0.0</td>\n      <td>0.0</td>\n      <td>0.0</td>\n      <td>0.0</td>\n      <td>...</td>\n      <td>0.0</td>\n      <td>0.0</td>\n      <td>0.0</td>\n      <td>0.0</td>\n      <td>0.0</td>\n      <td>0.0</td>\n      <td>0.0</td>\n      <td>0.0</td>\n      <td>0.0</td>\n      <td>0.0</td>\n    </tr>\n    <tr>\n      <th>2413</th>\n      <td>covid</td>\n      <td>0.0</td>\n      <td>0.0</td>\n      <td>0.0</td>\n      <td>0.0</td>\n      <td>0.0</td>\n      <td>0.0</td>\n      <td>0.0</td>\n      <td>0.0</td>\n      <td>0.0</td>\n      <td>...</td>\n      <td>0.0</td>\n      <td>0.0</td>\n      <td>0.0</td>\n      <td>0.0</td>\n      <td>0.0</td>\n      <td>0.0</td>\n      <td>0.0</td>\n      <td>0.0</td>\n      <td>0.0</td>\n      <td>0.0</td>\n    </tr>\n  </tbody>\n</table>\n<p>2414 rows × 15117 columns</p>\n</div>"
     },
     "execution_count": 8,
     "metadata": {},
     "output_type": "execute_result"
    }
   ],
   "source": [
    "res"
   ],
   "metadata": {
    "collapsed": false,
    "pycharm": {
     "name": "#%%\n"
    }
   }
  },
  {
   "cell_type": "markdown",
   "source": [
    "### 生成结果文件"
   ],
   "metadata": {
    "collapsed": false,
    "pycharm": {
     "name": "#%% md\n"
    }
   }
  },
  {
   "cell_type": "code",
   "execution_count": 9,
   "id": "22bb4679",
   "metadata": {
    "collapsed": false,
    "jupyter": {
     "outputs_hidden": false
    },
    "pycharm": {
     "name": "#%%\n"
    }
   },
   "outputs": [],
   "source": [
    "# 传入df和文件名生成csv文件\n",
    "def save_file(df, file_name):\n",
    "    df.to_csv('./result/' + file_name + 'result.csv', index=False)"
   ]
  },
  {
   "cell_type": "code",
   "execution_count": 10,
   "id": "7f9d9313",
   "metadata": {
    "collapsed": false,
    "jupyter": {
     "outputs_hidden": false
    },
    "pycharm": {
     "name": "#%%\n"
    }
   },
   "outputs": [
    {
     "name": "stdout",
     "output_type": "stream",
     "text": [
      "CPU times: user 24.2 s, sys: 3.24 s, total: 27.4 s\n",
      "Wall time: 27.7 s\n"
     ]
    }
   ],
   "source": [
    "%%time\n",
    "save_file(res, 'words_selected_')"
   ]
  },
  {
   "cell_type": "code",
   "execution_count": null,
   "id": "983b13d1",
   "metadata": {
    "collapsed": false,
    "jupyter": {
     "outputs_hidden": false
    },
    "pycharm": {
     "name": "#%%\n"
    }
   },
   "outputs": [],
   "source": []
  }
 ],
 "metadata": {
  "kernelspec": {
   "display_name": "pytorch",
   "language": "python",
   "name": "pytorch"
  },
  "language_info": {
   "codemirror_mode": {
    "name": "ipython",
    "version": 3
   },
   "file_extension": ".py",
   "mimetype": "text/x-python",
   "name": "python",
   "nbconvert_exporter": "python",
   "pygments_lexer": "ipython3",
   "version": "3.8.5"
  }
 },
 "nbformat": 4,
 "nbformat_minor": 5
}